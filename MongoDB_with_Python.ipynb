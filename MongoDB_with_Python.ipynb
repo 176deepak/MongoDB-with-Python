{
 "cells": [
  {
   "cell_type": "markdown",
   "id": "5c1640bb-dcf1-482c-8a9b-df2c46709c85",
   "metadata": {},
   "source": [
    "<h1 style=\"\n",
    "    text-align: center;\n",
    "    font-size: 50px;\n",
    "    font-weight: bold;\n",
    "    font-family: Garamond, serif;\n",
    "    color: #4DB33D;\n",
    "\">\n",
    "    MongoDB with Python\n",
    "</h1>"
   ]
  },
  {
   "cell_type": "markdown",
   "id": "983cf5fb-deb5-4301-8645-05a653780ea7",
   "metadata": {},
   "source": [
    "# Introduction\n",
    "<hr>\n",
    "MongoDB is a popular NoSQL database that is known for its flexibility and scalability. It's designed to store and manage large volumes of data, particularly unstructured or semi-structured data. MongoDB uses a document-oriented data model, which means data is stored in JSON-like documents called BSON rather than tables and rows as in traditional relational databases. \n",
    "\n",
    "Here are some key basics of MongoDB:\n",
    "1. **Documents**: In MongoDB, data is organized into documents, which are similar to rows or records in a relational database. These documents are stored in collections, which are similar to tables in relational databases. Each document is a JSON-like object that can contain various types of data, including strings, numbers, arrays, and sub-documents.\n",
    "2. **Collections**: Collections in MongoDB are groups of related documents. Unlike relational databases, you don't need to define a fixed schema for each collection, which allows for flexible data storage. Collections can store documents with different structures.\n",
    "3. **Fields**: Each document in MongoDB contains one or more fields, which are key-value pairs. Fields are used to store data attributes within a document. Fields can be of different data types, such as strings, numbers, arrays, or even other documents (sub-documents).\n",
    "4. **BSON**: MongoDB stores data in a binary representation called BSON (Binary JSON). BSON is a binary format that extends JSON to include additional data types and optimizations for efficient storage and retrieval.\n",
    "5. **Querying**: MongoDB provides a rich set of query operators to retrieve data from the database. You can filter documents, sort them, and perform complex queries using a query language that resembles JSON. The query language is flexible and can be used to search for documents based on various criteria.\n",
    "6. **Indexing**: MongoDB allows you to create indexes on fields within collections to improve query performance. Indexes speed up data retrieval by creating a data structure that enables faster data lookups.\n",
    "7. **Sharding**: MongoDB is designed to scale horizontally, which means you can distribute your data across multiple servers. Sharding is a technique that enables data to be partitioned and distributed across different servers or clusters, which helps handle large datasets and high traffic loads.\n",
    "8. **Replication**: MongoDB supports replica sets, which provide high availability and data redundancy. A replica set is a group of MongoDB servers that maintain identical data copies. If one server fails, another can take over, ensuring data availability and fault tolerance.\n",
    "9. **Aggregation**: MongoDB provides aggregation pipelines that allow you to perform data transformation and aggregation operations on your data. You can group, filter, and manipulate data using a series of stages in the aggregation pipeline.\n",
    "10. **Drivers**: MongoDB offers official and community-developed drivers for various programming languages, making it easy to interact with the database in your preferred programming environment.\n",
    "\n",
    "MongoDB is widely used in a variety of applications, including web and mobile apps, content management systems, and big data analytics. Its flexibility, scalability, and support for unstructured data make it a valuable tool for managing diverse data types and workloads."
   ]
  },
  {
   "cell_type": "markdown",
   "id": "efe8dcea-3d02-484c-a8bf-8fc5654e02f1",
   "metadata": {},
   "source": [
    "PyMongo is a Python driver for MongoDB, and it allows you to interact with MongoDB from Python applications. It is the official driver developed by MongoDB for Python and provides a convenient and Pythonic way to work with MongoDB databases. PyMongo makes it easy to connect to MongoDB, insert, update, delete, and query data, and perform various administrative tasks using Python.\n",
    "\n",
    "PyMongo is a popular choice for Python developers working with MongoDB, as it provides a straightforward and consistent way to integrate MongoDB into Python applications."
   ]
  },
  {
   "cell_type": "markdown",
   "id": "4c6befc0-bcef-421c-9bb5-b670b822d283",
   "metadata": {},
   "source": [
    "# Implementation"
   ]
  },
  {
   "cell_type": "code",
   "execution_count": 1,
   "id": "67137287-8703-4d2f-b64d-5a96dfc8880f",
   "metadata": {},
   "outputs": [],
   "source": [
    "import os\n",
    "import datetime \n",
    "# language driver for MongoDB \n",
    "import pymongo"
   ]
  },
  {
   "cell_type": "code",
   "execution_count": 2,
   "id": "7cb7afe3-84b1-48b9-931f-3a3cf24d84af",
   "metadata": {},
   "outputs": [
    {
     "name": "stdout",
     "output_type": "stream",
     "text": [
      "4.5.0\n"
     ]
    }
   ],
   "source": [
    "# version of pymongo\n",
    "print(pymongo.__version__)"
   ]
  },
  {
   "cell_type": "code",
   "execution_count": 3,
   "id": "03cba27b-155f-4bd9-a4af-18c3aa579db0",
   "metadata": {},
   "outputs": [],
   "source": [
    "# database connection string\n",
    "URI = {'YOUR CONNECTION STRING'}"
   ]
  },
  {
   "cell_type": "code",
   "execution_count": 4,
   "id": "cb2b6002-9cbc-4fe3-867b-934fe714cb94",
   "metadata": {},
   "outputs": [],
   "source": [
    "# connecting to database\n",
    "client = pymongo.MongoClient(URI)"
   ]
  },
  {
   "cell_type": "code",
   "execution_count": 5,
   "id": "99613051-7881-4ffc-81f5-d9f114f50d1b",
   "metadata": {},
   "outputs": [
    {
     "name": "stdout",
     "output_type": "stream",
     "text": [
      "MongoClient(host=['localhost:27017'], document_class=dict, tz_aware=False, connect=True)\n"
     ]
    }
   ],
   "source": [
    "# details\n",
    "print(client)"
   ]
  },
  {
   "cell_type": "code",
   "execution_count": 6,
   "id": "b124a698-920b-4262-8422-cafca5407fbf",
   "metadata": {},
   "outputs": [
    {
     "name": "stdout",
     "output_type": "stream",
     "text": [
      "['admin', 'config', 'local']\n"
     ]
    }
   ],
   "source": [
    "# all present databases\n",
    "dbs = client.list_database_names()\n",
    "print(dbs)"
   ]
  },
  {
   "cell_type": "markdown",
   "id": "f3646b9b-6d36-4384-8ec2-6bb9d888b4cf",
   "metadata": {},
   "source": [
    "# CRUD Operations"
   ]
  },
  {
   "cell_type": "markdown",
   "id": "3e42fadc-699a-4240-a725-b0e08a9f5e98",
   "metadata": {},
   "source": [
    "## Create Operation"
   ]
  },
  {
   "cell_type": "code",
   "execution_count": 7,
   "id": "d685f96b-48eb-4d01-a1ad-12f2aa717417",
   "metadata": {},
   "outputs": [],
   "source": [
    "# creating new database\n",
    "new_db = client['college']\n",
    "\n",
    "# creating new collection into newly created database\n",
    "db_coll = new_db['btech_students']"
   ]
  },
  {
   "cell_type": "code",
   "execution_count": 8,
   "id": "31d7d308-cb34-482e-835a-91b6efdf6bfc",
   "metadata": {},
   "outputs": [],
   "source": [
    "# accessing college database and it's btech_students collection\n",
    "college = client.college\n",
    "students = college.btech_students"
   ]
  },
  {
   "cell_type": "code",
   "execution_count": 9,
   "id": "16f7e051-79da-46d5-9193-63fbfc1ef27f",
   "metadata": {},
   "outputs": [
    {
     "name": "stdout",
     "output_type": "stream",
     "text": [
      "Id: 6544e8cf1adab4c8ffd9731a\n"
     ]
    }
   ],
   "source": [
    "# inserting a single document into collection \n",
    "student = {\n",
    "    \"Name\": \"Deepak Saini\",\n",
    "    \"Branch\": \"Artificial Intelligence and Data Science\",\n",
    "    \"Year\": \"4\",\n",
    "    \"Semester\": \"7\",\n",
    "    \"Roll No.\": \"20EELAD001\" \n",
    "}\n",
    "single_entry = students.insert_one(student)\n",
    "print(f\"Id: {single_entry.inserted_id}\")"
   ]
  },
  {
   "cell_type": "code",
   "execution_count": 10,
   "id": "2329da7d-fdf9-4bc1-b5c2-111207f0c396",
   "metadata": {},
   "outputs": [
    {
     "name": "stdout",
     "output_type": "stream",
     "text": [
      "Ids: [ObjectId('6544e9101adab4c8ffd9731b'), ObjectId('6544e9101adab4c8ffd9731c'), ObjectId('6544e9101adab4c8ffd9731d'), ObjectId('6544e9101adab4c8ffd9731e')]\n"
     ]
    }
   ],
   "source": [
    "# inserting multiple document in collection\n",
    "branch_students = [\n",
    "    {\n",
    "    \"Name\": \"Muskan Singh\",\n",
    "    \"Branch\": \"Artificial Intelligence and Data Science\",\n",
    "    \"Year\": \"4\",\n",
    "    \"Semester\": \"7\",\n",
    "    \"Roll No.\": \"20EELAD002\" \n",
    "    },\n",
    "    {\n",
    "    \"Name\": \"Omnath Yadav\",\n",
    "    \"Branch\": \"Artificial Intelligence and Data Science\",\n",
    "    \"Year\": \"4\",\n",
    "    \"Semester\": \"7\",\n",
    "    \"Roll No.\": \"20EELAD003\"\n",
    "    },\n",
    "    {\n",
    "    \"Name\": \"Prateek Dattatria\",\n",
    "    \"Branch\": \"Artificial Intelligence and Data Science\",\n",
    "    \"Year\": \"4\",\n",
    "    \"Semester\": \"7\",\n",
    "    \"Roll No.\": \"20EELAD004\"\n",
    "    },\n",
    "    {\n",
    "    \"Name\": \"Shubash Singh\",\n",
    "    \"Branch\": \"Artificial Intelligence and Data Science\",\n",
    "    \"Year\": \"4\",\n",
    "    \"Semester\": \"7\",\n",
    "    \"Roll No.\": \"20EELAD005\"\n",
    "    }\n",
    "]\n",
    "many_entries = students.insert_many(branch_students)\n",
    "print(f\"Ids: {many_entries.inserted_ids}\")"
   ]
  },
  {
   "cell_type": "markdown",
   "id": "ecc5242d-fd92-4547-9df7-bf1080925a15",
   "metadata": {},
   "source": [
    "## Read Operation"
   ]
  },
  {
   "cell_type": "code",
   "execution_count": 11,
   "id": "a1055739-4340-46c5-8b6f-b5a227a96e28",
   "metadata": {},
   "outputs": [
    {
     "name": "stdout",
     "output_type": "stream",
     "text": [
      "Single document from collection\n",
      "{'_id': ObjectId('6544e8cf1adab4c8ffd9731a'), 'Name': 'Deepak Saini', 'Branch': 'Artificial Intelligence and Data Science', 'Year': '4', 'Semester': '7', 'Roll No.': '20EELAD001'}\n",
      "\n"
     ]
    }
   ],
   "source": [
    "# reading single document from collection\n",
    "print(\"Single document from collection\")\n",
    "print(students.find_one(), end=\"\\n\\n\")"
   ]
  },
  {
   "cell_type": "code",
   "execution_count": 12,
   "id": "ef0db72b-3ddb-4c7f-97dd-681236331dbe",
   "metadata": {},
   "outputs": [
    {
     "name": "stdout",
     "output_type": "stream",
     "text": [
      "All documents from collection: \n",
      "{'_id': ObjectId('6544e8cf1adab4c8ffd9731a'), 'Name': 'Deepak Saini', 'Branch': 'Artificial Intelligence and Data Science', 'Year': '4', 'Semester': '7', 'Roll No.': '20EELAD001'}\n",
      "{'_id': ObjectId('6544e9101adab4c8ffd9731b'), 'Name': 'Muskan Singh', 'Branch': 'Artificial Intelligence and Data Science', 'Year': '4', 'Semester': '7', 'Roll No.': '20EELAD002'}\n",
      "{'_id': ObjectId('6544e9101adab4c8ffd9731c'), 'Name': 'Omnath Yadav', 'Branch': 'Artificial Intelligence and Data Science', 'Year': '4', 'Semester': '7', 'Roll No.': '20EELAD003'}\n",
      "{'_id': ObjectId('6544e9101adab4c8ffd9731d'), 'Name': 'Prateek Dattatria', 'Branch': 'Artificial Intelligence and Data Science', 'Year': '4', 'Semester': '7', 'Roll No.': '20EELAD004'}\n",
      "{'_id': ObjectId('6544e9101adab4c8ffd9731e'), 'Name': 'Shubash Singh', 'Branch': 'Artificial Intelligence and Data Science', 'Year': '4', 'Semester': '7', 'Roll No.': '20EELAD005'}\n"
     ]
    }
   ],
   "source": [
    "# reading all documents from collection\n",
    "print(\"All documents from collection: \")\n",
    "for student in students.find():\n",
    "    print(student)"
   ]
  },
  {
   "cell_type": "markdown",
   "id": "a8c8ce65-dd2e-4c99-911e-7d2b8666b797",
   "metadata": {},
   "source": [
    "## Update Operation"
   ]
  },
  {
   "cell_type": "code",
   "execution_count": 13,
   "id": "554e8812-deb6-43ed-ae9a-14d3621aece5",
   "metadata": {},
   "outputs": [
    {
     "name": "stdout",
     "output_type": "stream",
     "text": [
      "Document before update: \n",
      " {'_id': ObjectId('6544e8cf1adab4c8ffd9731a'), 'Name': 'Deepak Saini', 'Branch': 'Artificial Intelligence and Data Science', 'Year': '4', 'Semester': '7', 'Roll No.': '20EELAD001'}\n",
      "Document after update: \n",
      " {'_id': ObjectId('6544e8cf1adab4c8ffd9731a'), 'Name': 'Deepak Saini', 'Branch': 'Artificial Intelligence and Data Science', 'Year': 'Final Year', 'Semester': '7', 'Roll No.': '20EELAD001'}\n",
      "\n"
     ]
    }
   ],
   "source": [
    "'''\n",
    "Updating only single document \n",
    "'''\n",
    "# document before update\n",
    "print(\"Document before update: \\n\", students.find_one())\n",
    "# field for updation\n",
    "updated_field = {'Year': 'Final Year'}\n",
    "# updating the document with new field\n",
    "students.update_one(filter = {'Branch': 'Artificial Intelligence and Data Science'}, update = {'$set': updated_field})\n",
    "# document after update\n",
    "print(\"Document after update: \\n\", students.find_one(), end=\"\\n\\n\")"
   ]
  },
  {
   "cell_type": "code",
   "execution_count": 15,
   "id": "bf9b491d-a23a-460e-9978-14674889dfc5",
   "metadata": {},
   "outputs": [
    {
     "name": "stdout",
     "output_type": "stream",
     "text": [
      "Documents after update: \n",
      "\n",
      "{'_id': ObjectId('6544e8cf1adab4c8ffd9731a'), 'Name': 'Deepak Saini', 'Branch': 'Artificial Intelligence and Data Science', 'Year': 'Final Year', 'Semester': '7', 'Roll No.': '20EELAD001'}\n",
      "{'_id': ObjectId('6544e9101adab4c8ffd9731b'), 'Name': 'Muskan Singh', 'Branch': 'Artificial Intelligence and Data Science', 'Year': 'Final Year', 'Semester': '7', 'Roll No.': '20EELAD002'}\n",
      "{'_id': ObjectId('6544e9101adab4c8ffd9731c'), 'Name': 'Omnath Yadav', 'Branch': 'Artificial Intelligence and Data Science', 'Year': 'Final Year', 'Semester': '7', 'Roll No.': '20EELAD003'}\n",
      "{'_id': ObjectId('6544e9101adab4c8ffd9731d'), 'Name': 'Prateek Dattatria', 'Branch': 'Artificial Intelligence and Data Science', 'Year': 'Final Year', 'Semester': '7', 'Roll No.': '20EELAD004'}\n",
      "{'_id': ObjectId('6544e9101adab4c8ffd9731e'), 'Name': 'Shubash Singh', 'Branch': 'Artificial Intelligence and Data Science', 'Year': 'Final Year', 'Semester': '7', 'Roll No.': '20EELAD005'}\n"
     ]
    }
   ],
   "source": [
    "'''\n",
    "Updating all documents \n",
    "'''\n",
    "updated_field = {'Year': 'Final Year'}\n",
    "# updating the document with new field\n",
    "students.update_many(filter = {'Branch': 'Artificial Intelligence and Data Science'}, update = {'$set': updated_field})\n",
    "# documents after update\n",
    "print(\"Documents after update: \\n\")\n",
    "for student in students.find():\n",
    "    print(student)"
   ]
  },
  {
   "cell_type": "markdown",
   "id": "9e89885d-e80e-4a89-9a84-f21ae5a3bf6a",
   "metadata": {},
   "source": [
    "## Delete Operation"
   ]
  },
  {
   "cell_type": "code",
   "execution_count": 16,
   "id": "e9aad244-dde8-492d-8760-cce420753ae8",
   "metadata": {},
   "outputs": [
    {
     "name": "stdout",
     "output_type": "stream",
     "text": [
      "Collection before update:\n",
      "{'_id': ObjectId('6544e8cf1adab4c8ffd9731a'), 'Name': 'Deepak Saini', 'Branch': 'Artificial Intelligence and Data Science', 'Year': 'Final Year', 'Semester': '7', 'Roll No.': '20EELAD001'}\n",
      "{'_id': ObjectId('6544e9101adab4c8ffd9731b'), 'Name': 'Muskan Singh', 'Branch': 'Artificial Intelligence and Data Science', 'Year': 'Final Year', 'Semester': '7', 'Roll No.': '20EELAD002'}\n",
      "{'_id': ObjectId('6544e9101adab4c8ffd9731c'), 'Name': 'Omnath Yadav', 'Branch': 'Artificial Intelligence and Data Science', 'Year': 'Final Year', 'Semester': '7', 'Roll No.': '20EELAD003'}\n",
      "{'_id': ObjectId('6544e9101adab4c8ffd9731d'), 'Name': 'Prateek Dattatria', 'Branch': 'Artificial Intelligence and Data Science', 'Year': 'Final Year', 'Semester': '7', 'Roll No.': '20EELAD004'}\n",
      "{'_id': ObjectId('6544e9101adab4c8ffd9731e'), 'Name': 'Shubash Singh', 'Branch': 'Artificial Intelligence and Data Science', 'Year': 'Final Year', 'Semester': '7', 'Roll No.': '20EELAD005'}\n",
      "Collection after update:\n",
      "{'_id': ObjectId('6544e9101adab4c8ffd9731b'), 'Name': 'Muskan Singh', 'Branch': 'Artificial Intelligence and Data Science', 'Year': 'Final Year', 'Semester': '7', 'Roll No.': '20EELAD002'}\n",
      "{'_id': ObjectId('6544e9101adab4c8ffd9731c'), 'Name': 'Omnath Yadav', 'Branch': 'Artificial Intelligence and Data Science', 'Year': 'Final Year', 'Semester': '7', 'Roll No.': '20EELAD003'}\n",
      "{'_id': ObjectId('6544e9101adab4c8ffd9731d'), 'Name': 'Prateek Dattatria', 'Branch': 'Artificial Intelligence and Data Science', 'Year': 'Final Year', 'Semester': '7', 'Roll No.': '20EELAD004'}\n",
      "{'_id': ObjectId('6544e9101adab4c8ffd9731e'), 'Name': 'Shubash Singh', 'Branch': 'Artificial Intelligence and Data Science', 'Year': 'Final Year', 'Semester': '7', 'Roll No.': '20EELAD005'}\n"
     ]
    }
   ],
   "source": [
    "# deleting single document \n",
    "print(\"Collection before update:\")\n",
    "for student in students.find():\n",
    "    print(student)\n",
    "students.delete_one(filter = {'Branch': 'Artificial Intelligence and Data Science'})\n",
    "print(\"Collection after update:\")\n",
    "for student in students.find():\n",
    "    print(student)"
   ]
  },
  {
   "cell_type": "code",
   "execution_count": 17,
   "id": "a772f60f-04eb-48f9-b17c-9960885aeb93",
   "metadata": {},
   "outputs": [
    {
     "name": "stdout",
     "output_type": "stream",
     "text": [
      "Collection before update:\n",
      "{'_id': ObjectId('6544e9101adab4c8ffd9731b'), 'Name': 'Muskan Singh', 'Branch': 'Artificial Intelligence and Data Science', 'Year': 'Final Year', 'Semester': '7', 'Roll No.': '20EELAD002'}\n",
      "{'_id': ObjectId('6544e9101adab4c8ffd9731c'), 'Name': 'Omnath Yadav', 'Branch': 'Artificial Intelligence and Data Science', 'Year': 'Final Year', 'Semester': '7', 'Roll No.': '20EELAD003'}\n",
      "{'_id': ObjectId('6544e9101adab4c8ffd9731d'), 'Name': 'Prateek Dattatria', 'Branch': 'Artificial Intelligence and Data Science', 'Year': 'Final Year', 'Semester': '7', 'Roll No.': '20EELAD004'}\n",
      "{'_id': ObjectId('6544e9101adab4c8ffd9731e'), 'Name': 'Shubash Singh', 'Branch': 'Artificial Intelligence and Data Science', 'Year': 'Final Year', 'Semester': '7', 'Roll No.': '20EELAD005'}\n",
      "Collection after update:\n"
     ]
    }
   ],
   "source": [
    "# deleting all documents \n",
    "print(\"Collection before update:\")\n",
    "for student in students.find():\n",
    "    print(student)\n",
    "students.delete_many(filter = {'Branch': 'Artificial Intelligence and Data Science'})\n",
    "print(\"Collection after update:\")\n",
    "for student in students.find():\n",
    "    print(student)"
   ]
  },
  {
   "cell_type": "code",
   "execution_count": 18,
   "id": "b640cb11-c47b-4599-8bcc-4e6d74901eb9",
   "metadata": {},
   "outputs": [],
   "source": [
    "# deleting database \n",
    "client.drop_database('college')"
   ]
  },
  {
   "cell_type": "markdown",
   "id": "4380d7db-16f7-449b-959d-15c89aeaa65b",
   "metadata": {},
   "source": [
    "<h1 style=\"\n",
    "    text-align: center;\n",
    "    font-size: 35px;\n",
    "    font-weight: bold;\n",
    "    font-family: Garamond, serif;\n",
    "    color: #4DB33D;\n",
    "\">\n",
    "    Thankyou❤️\n",
    "</h1>"
   ]
  }
 ],
 "metadata": {
  "kernelspec": {
   "display_name": "Python 3 (ipykernel)",
   "language": "python",
   "name": "python3"
  },
  "language_info": {
   "codemirror_mode": {
    "name": "ipython",
    "version": 3
   },
   "file_extension": ".py",
   "mimetype": "text/x-python",
   "name": "python",
   "nbconvert_exporter": "python",
   "pygments_lexer": "ipython3",
   "version": "3.11.5"
  }
 },
 "nbformat": 4,
 "nbformat_minor": 5
}
